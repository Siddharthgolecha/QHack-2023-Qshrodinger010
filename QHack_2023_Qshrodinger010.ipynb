{
  "nbformat": 4,
  "nbformat_minor": 0,
  "metadata": {
    "colab": {
      "provenance": [],
      "authorship_tag": "ABX9TyPnUqUSaGqlDjMcP5ZygxoL"
    },
    "kernelspec": {
      "name": "python3",
      "display_name": "Python 3"
    },
    "language_info": {
      "name": "python"
    }
  },
  "cells": [
    {
      "cell_type": "code",
      "execution_count": 19,
      "metadata": {
        "id": "OtHjc8WOaeKC",
        "colab": {
          "base_uri": "https://localhost:8080/"
        },
        "outputId": "b817aea4-3929-498c-bc97-62e5339439b1"
      },
      "outputs": [
        {
          "output_type": "stream",
          "name": "stdout",
          "text": [
            "Looking in indexes: https://pypi.org/simple, https://us-python.pkg.dev/colab-wheels/public/simple/\n",
            "Requirement already satisfied: qiskit in /usr/local/lib/python3.8/dist-packages (0.41.1)\n",
            "Requirement already satisfied: qiskit-ibmq-provider==0.20.1 in /usr/local/lib/python3.8/dist-packages (from qiskit) (0.20.1)\n",
            "Requirement already satisfied: qiskit-aer==0.11.2 in /usr/local/lib/python3.8/dist-packages (from qiskit) (0.11.2)\n",
            "Requirement already satisfied: qiskit-terra==0.23.2 in /usr/local/lib/python3.8/dist-packages (from qiskit) (0.23.2)\n",
            "Requirement already satisfied: numpy>=1.16.3 in /usr/local/lib/python3.8/dist-packages (from qiskit-aer==0.11.2->qiskit) (1.22.4)\n",
            "Requirement already satisfied: scipy>=1.0 in /usr/local/lib/python3.8/dist-packages (from qiskit-aer==0.11.2->qiskit) (1.7.3)\n",
            "Requirement already satisfied: requests-ntlm~=1.1.0 in /usr/local/lib/python3.8/dist-packages (from qiskit-ibmq-provider==0.20.1->qiskit) (1.1.0)\n",
            "Requirement already satisfied: websockets~=10.0 in /usr/local/lib/python3.8/dist-packages (from qiskit-ibmq-provider==0.20.1->qiskit) (10.4)\n",
            "Requirement already satisfied: requests~=2.28.0 in /usr/local/lib/python3.8/dist-packages (from qiskit-ibmq-provider==0.20.1->qiskit) (2.28.2)\n",
            "Requirement already satisfied: python-dateutil~=2.8.0 in /usr/local/lib/python3.8/dist-packages (from qiskit-ibmq-provider==0.20.1->qiskit) (2.8.2)\n",
            "Requirement already satisfied: urllib3~=1.26.0 in /usr/local/lib/python3.8/dist-packages (from qiskit-ibmq-provider==0.20.1->qiskit) (1.26.14)\n",
            "Requirement already satisfied: websocket-client~=1.5.1 in /usr/local/lib/python3.8/dist-packages (from qiskit-ibmq-provider==0.20.1->qiskit) (1.5.1)\n",
            "Requirement already satisfied: stevedore>=3.0.0 in /usr/local/lib/python3.8/dist-packages (from qiskit-terra==0.23.2->qiskit) (5.0.0)\n",
            "Requirement already satisfied: psutil>=5 in /usr/local/lib/python3.8/dist-packages (from qiskit-terra==0.23.2->qiskit) (5.4.8)\n",
            "Requirement already satisfied: dill>=0.3 in /usr/local/lib/python3.8/dist-packages (from qiskit-terra==0.23.2->qiskit) (0.3.6)\n",
            "Requirement already satisfied: symengine>=0.9 in /usr/local/lib/python3.8/dist-packages (from qiskit-terra==0.23.2->qiskit) (0.9.2)\n",
            "Requirement already satisfied: sympy>=1.3 in /usr/local/lib/python3.8/dist-packages (from qiskit-terra==0.23.2->qiskit) (1.7.1)\n",
            "Requirement already satisfied: rustworkx>=0.12.0 in /usr/local/lib/python3.8/dist-packages (from qiskit-terra==0.23.2->qiskit) (0.12.1)\n",
            "Requirement already satisfied: ply>=3.10 in /usr/local/lib/python3.8/dist-packages (from qiskit-terra==0.23.2->qiskit) (3.11)\n",
            "Requirement already satisfied: six>=1.5 in /usr/local/lib/python3.8/dist-packages (from python-dateutil~=2.8.0->qiskit-ibmq-provider==0.20.1->qiskit) (1.15.0)\n",
            "Requirement already satisfied: certifi>=2017.4.17 in /usr/local/lib/python3.8/dist-packages (from requests~=2.28.0->qiskit-ibmq-provider==0.20.1->qiskit) (2022.12.7)\n",
            "Requirement already satisfied: charset-normalizer<4,>=2 in /usr/local/lib/python3.8/dist-packages (from requests~=2.28.0->qiskit-ibmq-provider==0.20.1->qiskit) (3.0.1)\n",
            "Requirement already satisfied: idna<4,>=2.5 in /usr/local/lib/python3.8/dist-packages (from requests~=2.28.0->qiskit-ibmq-provider==0.20.1->qiskit) (2.10)\n",
            "Requirement already satisfied: ntlm-auth>=1.0.2 in /usr/local/lib/python3.8/dist-packages (from requests-ntlm~=1.1.0->qiskit-ibmq-provider==0.20.1->qiskit) (1.5.0)\n",
            "Requirement already satisfied: cryptography>=1.3 in /usr/local/lib/python3.8/dist-packages (from requests-ntlm~=1.1.0->qiskit-ibmq-provider==0.20.1->qiskit) (39.0.1)\n",
            "Requirement already satisfied: pbr!=2.1.0,>=2.0.0 in /usr/local/lib/python3.8/dist-packages (from stevedore>=3.0.0->qiskit-terra==0.23.2->qiskit) (5.11.1)\n",
            "Requirement already satisfied: mpmath>=0.19 in /usr/local/lib/python3.8/dist-packages (from sympy>=1.3->qiskit-terra==0.23.2->qiskit) (1.2.1)\n",
            "Requirement already satisfied: cffi>=1.12 in /usr/local/lib/python3.8/dist-packages (from cryptography>=1.3->requests-ntlm~=1.1.0->qiskit-ibmq-provider==0.20.1->qiskit) (1.15.1)\n",
            "Requirement already satisfied: pycparser in /usr/local/lib/python3.8/dist-packages (from cffi>=1.12->cryptography>=1.3->requests-ntlm~=1.1.0->qiskit-ibmq-provider==0.20.1->qiskit) (2.21)\n",
            "Looking in indexes: https://pypi.org/simple, https://us-python.pkg.dev/colab-wheels/public/simple/\n",
            "Requirement already satisfied: graphviz in /usr/local/lib/python3.8/dist-packages (0.10.1)\n"
          ]
        }
      ],
      "source": [
        "!pip install qiskit\n",
        "!pip install graphviz"
      ]
    },
    {
      "cell_type": "code",
      "source": [
        "import numpy as np\n",
        "import qiskit\n",
        "import matplotlib.pyplot as plt\n",
        "from qiskit import Aer, QuantumCircuit\n",
        "import graphviz"
      ],
      "metadata": {
        "id": "1Q2ZXDnZnYsc"
      },
      "execution_count": 22,
      "outputs": []
    },
    {
      "cell_type": "code",
      "source": [
        "def arks_representation(statevector: list, d:int = 2)->None:\n",
        "  num_qudits = int(np.log(len(statevector))/np.log(d))\n",
        "  graph = graphviz.Graph('arks_repr', format='svg')\n",
        "  graph.graph_attr.update(splines=\"false\", rankdir='LR')\n",
        "  graph.node_attr.update(label=\"\")\n",
        "  with graph.subgraph(name=\"labelstr\") as c:\n",
        "    c.attr(rank=\"same\")\n",
        "    c.attr(label=\"Labels\")\n",
        "    c.node_attr.update(penwidth=\"0\")\n",
        "    for i in range(d):\n",
        "      c.node(str(i), label=str(i))\n",
        "  for k in range(num_qudits):\n",
        "    with graph.subgraph(name=f\"clusterQ{k}\") as qudit:\n",
        "      qudit.attr(rank=\"same\")\n",
        "      qudit.attr(label=f\"Q{k}\")\n",
        "      qudit.attr(group=\"Q\")\n",
        "      qudit.node_attr.update(shape=\"circle\", style=\"filled\", color=\"#ADD8E6\")\n",
        "      for i in range(d):\n",
        "        label = \"\" if num_qudits > 1 else str(np.round(statevector[i],3))\n",
        "        qudit.node(f\"q{k}_{i}\", label=label)\n",
        "\n",
        "  # Adding invisible edges between labels and 0th qubit to keep them in line\n",
        "  for i in range(d):\n",
        "    graph.edge(str(i),f\"q0_{i}\", style=\"invis\")\n",
        "\n",
        "  if num_qudits > 1:\n",
        "\n",
        "    # Adding edges between qubits\n",
        "    for state, amp in enumerate(statevector):\n",
        "      if amp != 0:\n",
        "        state = list(np.base_repr(state, base=d).zfill(num_qudits))\n",
        "        color = \"#\"+''.join(np.random.choice(list('0123456789ABCDEF'), 6))\n",
        "\n",
        "        for idx in range(len(state)-1):\n",
        "          graph.edge(f\"q{idx}_{state[idx]}\", \n",
        "                    f\"q{idx+1}_{state[idx+1]}\", \n",
        "                    color=color,\n",
        "                    label=f\"<<font color=\\\"{color}\\\">{np.round(amp,3)}</font>>\",\n",
        "                    fontsize=\"9\")\n",
        "          \n",
        "    # Adding invisible edges between qubits where they are not present to keep them in line\n",
        "    for k in range(num_qudits-1):\n",
        "      for i in range(d):\n",
        "        if f\"q{k}_{i} -- q{k+1}_{i}\" not in graph.source:\n",
        "          graph.edge(f\"q{k}_{i}\",f\"q{k+1}_{i}\", style=\"invis\")\n",
        "\n",
        "  return graph"
      ],
      "metadata": {
        "id": "wnuEPRGAAdq2"
      },
      "execution_count": 245,
      "outputs": []
    },
    {
      "cell_type": "code",
      "source": [
        "circuit = QuantumCircuit(2)\n",
        "circuit.h(0)\n",
        "circuit.h(1)\n",
        "#circuit.cnot(0, 1)\n",
        "backend = Aer.get_backend(\"statevector_simulator\")\n",
        "statevector = backend.run(circuit).result().get_statevector()\n",
        "print(statevector.data)"
      ],
      "metadata": {
        "colab": {
          "base_uri": "https://localhost:8080/"
        },
        "id": "p2PFUF2ADWb_",
        "outputId": "f42996eb-0705-4ba4-9cd4-b3225c767ee2"
      },
      "execution_count": 246,
      "outputs": [
        {
          "output_type": "stream",
          "name": "stdout",
          "text": [
            "[0.5+0.j 0.5+0.j 0.5+0.j 0.5+0.j]\n"
          ]
        }
      ]
    },
    {
      "cell_type": "code",
      "source": [
        "g = arks_representation(statevector.data)\n",
        "#print(g.source)\n",
        "#g.render('circuit_arks_repr', format=\"png\", view=True)\n",
        "g"
      ],
      "metadata": {
        "colab": {
          "base_uri": "https://localhost:8080/",
          "height": 230
        },
        "id": "LD1soUhcEm9L",
        "outputId": "a0266adf-a0a4-4ffd-86cd-4eb23f990206"
      },
      "execution_count": 247,
      "outputs": [
        {
          "output_type": "execute_result",
          "data": {
            "text/plain": [
              "<graphviz.dot.Graph at 0x7f3bc959bc10>"
            ],
            "image/svg+xml": "<?xml version=\"1.0\" encoding=\"UTF-8\" standalone=\"no\"?>\n<!DOCTYPE svg PUBLIC \"-//W3C//DTD SVG 1.1//EN\"\n \"http://www.w3.org/Graphics/SVG/1.1/DTD/svg11.dtd\">\n<!-- Generated by graphviz version 2.43.0 (0)\n -->\n<!-- Title: arks_repr Pages: 1 -->\n<svg width=\"253pt\" height=\"156pt\"\n viewBox=\"0.00 0.00 253.00 156.00\" xmlns=\"http://www.w3.org/2000/svg\" xmlns:xlink=\"http://www.w3.org/1999/xlink\">\n<g id=\"graph0\" class=\"graph\" transform=\"scale(1 1) rotate(0) translate(4 152)\">\n<title>arks_repr</title>\n<polygon fill=\"white\" stroke=\"transparent\" points=\"-4,4 -4,-152 249,-152 249,4 -4,4\"/>\n<g id=\"clust2\" class=\"cluster\">\n<title>clusterQ0</title>\n<polygon fill=\"none\" stroke=\"black\" points=\"83,-11 83,-140 135,-140 135,-11 83,-11\"/>\n<text text-anchor=\"middle\" x=\"109\" y=\"-124.8\" font-family=\"Times,serif\" font-size=\"14.00\">Q0</text>\n</g>\n<g id=\"clust3\" class=\"cluster\">\n<title>clusterQ1</title>\n<polygon fill=\"none\" stroke=\"black\" points=\"185,-8 185,-137 237,-137 237,-8 185,-8\"/>\n<text text-anchor=\"middle\" x=\"211\" y=\"-121.8\" font-family=\"Times,serif\" font-size=\"14.00\">Q1</text>\n</g>\n<!-- 0 -->\n<g id=\"node1\" class=\"node\">\n<title>0</title>\n<ellipse fill=\"none\" stroke=\"black\" stroke-width=\"0\" cx=\"27\" cy=\"-91\" rx=\"27\" ry=\"18\"/>\n<text text-anchor=\"middle\" x=\"27\" y=\"-87.3\" font-family=\"Times,serif\" font-size=\"14.00\">0</text>\n</g>\n<!-- q0_0 -->\n<g id=\"node3\" class=\"node\">\n<title>q0_0</title>\n<ellipse fill=\"#add8e6\" stroke=\"#add8e6\" cx=\"109\" cy=\"-91\" rx=\"18\" ry=\"18\"/>\n</g>\n<!-- 0&#45;&#45;q0_0 -->\n<!-- 1 -->\n<g id=\"node2\" class=\"node\">\n<title>1</title>\n<ellipse fill=\"none\" stroke=\"black\" stroke-width=\"0\" cx=\"27\" cy=\"-37\" rx=\"27\" ry=\"18\"/>\n<text text-anchor=\"middle\" x=\"27\" y=\"-33.3\" font-family=\"Times,serif\" font-size=\"14.00\">1</text>\n</g>\n<!-- q0_1 -->\n<g id=\"node4\" class=\"node\">\n<title>q0_1</title>\n<ellipse fill=\"#add8e6\" stroke=\"#add8e6\" cx=\"109\" cy=\"-37\" rx=\"18\" ry=\"18\"/>\n</g>\n<!-- 1&#45;&#45;q0_1 -->\n<!-- q1_0 -->\n<g id=\"node5\" class=\"node\">\n<title>q1_0</title>\n<ellipse fill=\"#add8e6\" stroke=\"#add8e6\" cx=\"211\" cy=\"-88\" rx=\"18\" ry=\"18\"/>\n</g>\n<!-- q0_0&#45;&#45;q1_0 -->\n<g id=\"edge3\" class=\"edge\">\n<title>q0_0&#45;&#45;q1_0</title>\n<path fill=\"none\" stroke=\"#8b7567\" d=\"M127.42,-90.48C145.77,-89.93 174.5,-89.06 192.78,-88.52\"/>\n<text text-anchor=\"start\" x=\"145\" y=\"-94.8\" font-family=\"Times,serif\" font-size=\"9.00\" fill=\"#8b7567\">(0.5+0j)</text>\n</g>\n<!-- q1_1 -->\n<g id=\"node6\" class=\"node\">\n<title>q1_1</title>\n<ellipse fill=\"#add8e6\" stroke=\"#add8e6\" cx=\"211\" cy=\"-34\" rx=\"18\" ry=\"18\"/>\n</g>\n<!-- q0_0&#45;&#45;q1_1 -->\n<g id=\"edge4\" class=\"edge\">\n<title>q0_0&#45;&#45;q1_1</title>\n<path fill=\"none\" stroke=\"#6fbac2\" d=\"M125.19,-82.34C144.09,-71.57 176.18,-53.28 195,-42.55\"/>\n<text text-anchor=\"start\" x=\"145\" y=\"-75.8\" font-family=\"Times,serif\" font-size=\"9.00\" fill=\"#6fbac2\">(0.5+0j)</text>\n</g>\n<!-- q0_1&#45;&#45;q1_0 -->\n<g id=\"edge5\" class=\"edge\">\n<title>q0_1&#45;&#45;q1_0</title>\n<path fill=\"none\" stroke=\"#e9bac8\" d=\"M125.62,-44.97C144.41,-54.55 175.75,-70.53 194.48,-80.09\"/>\n<text text-anchor=\"start\" x=\"145\" y=\"-51.8\" font-family=\"Times,serif\" font-size=\"9.00\" fill=\"#e9bac8\">(0.5+0j)</text>\n</g>\n<!-- q0_1&#45;&#45;q1_1 -->\n<g id=\"edge6\" class=\"edge\">\n<title>q0_1&#45;&#45;q1_1</title>\n<path fill=\"none\" stroke=\"#bd84da\" d=\"M127.42,-36.48C145.77,-35.93 174.5,-35.06 192.78,-34.52\"/>\n<text text-anchor=\"start\" x=\"145\" y=\"-18.8\" font-family=\"Times,serif\" font-size=\"9.00\" fill=\"#bd84da\">(0.5+0j)</text>\n</g>\n</g>\n</svg>\n"
          },
          "metadata": {},
          "execution_count": 247
        }
      ]
    },
    {
      "cell_type": "code",
      "source": [],
      "metadata": {
        "id": "vxIctiKMHRca"
      },
      "execution_count": 176,
      "outputs": []
    }
  ]
}