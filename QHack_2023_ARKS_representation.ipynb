{
  "nbformat": 4,
  "nbformat_minor": 0,
  "metadata": {
    "colab": {
      "provenance": [],
      "include_colab_link": true
    },
    "kernelspec": {
      "name": "python3",
      "display_name": "Python 3"
    },
    "language_info": {
      "name": "python"
    }
  },
  "cells": [
    {
      "cell_type": "markdown",
      "metadata": {
        "id": "view-in-github",
        "colab_type": "text"
      },
      "source": [
        "<a href=\"https://colab.research.google.com/github/Siddharthgolecha/QHack-2023-Qshrodinger010/blob/main/QHack_2023_ARKS_representation.ipynb\" target=\"_parent\"><img src=\"https://colab.research.google.com/assets/colab-badge.svg\" alt=\"Open In Colab\"/></a>"
      ]
    },
    {
      "cell_type": "code",
      "execution_count": null,
      "metadata": {
        "id": "OtHjc8WOaeKC",
        "colab": {
          "base_uri": "https://localhost:8080/"
        },
        "outputId": "1818e34a-6c6c-496e-bcfa-06b58d4f860f"
      },
      "outputs": [
        {
          "output_type": "stream",
          "name": "stdout",
          "text": [
            "Looking in indexes: https://pypi.org/simple, https://us-python.pkg.dev/colab-wheels/public/simple/\n",
            "Requirement already satisfied: qiskit in /usr/local/lib/python3.8/dist-packages (0.41.1)\n",
            "Requirement already satisfied: qiskit-ibmq-provider==0.20.1 in /usr/local/lib/python3.8/dist-packages (from qiskit) (0.20.1)\n",
            "Requirement already satisfied: qiskit-terra==0.23.2 in /usr/local/lib/python3.8/dist-packages (from qiskit) (0.23.2)\n",
            "Requirement already satisfied: qiskit-aer==0.11.2 in /usr/local/lib/python3.8/dist-packages (from qiskit) (0.11.2)\n",
            "Requirement already satisfied: scipy>=1.0 in /usr/local/lib/python3.8/dist-packages (from qiskit-aer==0.11.2->qiskit) (1.7.3)\n",
            "Requirement already satisfied: numpy>=1.16.3 in /usr/local/lib/python3.8/dist-packages (from qiskit-aer==0.11.2->qiskit) (1.22.4)\n",
            "Requirement already satisfied: requests-ntlm~=1.1.0 in /usr/local/lib/python3.8/dist-packages (from qiskit-ibmq-provider==0.20.1->qiskit) (1.1.0)\n",
            "Requirement already satisfied: requests~=2.28.0 in /usr/local/lib/python3.8/dist-packages (from qiskit-ibmq-provider==0.20.1->qiskit) (2.28.2)\n",
            "Requirement already satisfied: websockets~=10.0 in /usr/local/lib/python3.8/dist-packages (from qiskit-ibmq-provider==0.20.1->qiskit) (10.4)\n",
            "Requirement already satisfied: urllib3~=1.26.0 in /usr/local/lib/python3.8/dist-packages (from qiskit-ibmq-provider==0.20.1->qiskit) (1.26.14)\n",
            "Requirement already satisfied: python-dateutil~=2.8.0 in /usr/local/lib/python3.8/dist-packages (from qiskit-ibmq-provider==0.20.1->qiskit) (2.8.2)\n",
            "Requirement already satisfied: websocket-client~=1.5.1 in /usr/local/lib/python3.8/dist-packages (from qiskit-ibmq-provider==0.20.1->qiskit) (1.5.1)\n",
            "Requirement already satisfied: sympy>=1.3 in /usr/local/lib/python3.8/dist-packages (from qiskit-terra==0.23.2->qiskit) (1.7.1)\n",
            "Requirement already satisfied: psutil>=5 in /usr/local/lib/python3.8/dist-packages (from qiskit-terra==0.23.2->qiskit) (5.4.8)\n",
            "Requirement already satisfied: rustworkx>=0.12.0 in /usr/local/lib/python3.8/dist-packages (from qiskit-terra==0.23.2->qiskit) (0.12.1)\n",
            "Requirement already satisfied: symengine>=0.9 in /usr/local/lib/python3.8/dist-packages (from qiskit-terra==0.23.2->qiskit) (0.9.2)\n",
            "Requirement already satisfied: ply>=3.10 in /usr/local/lib/python3.8/dist-packages (from qiskit-terra==0.23.2->qiskit) (3.11)\n",
            "Requirement already satisfied: dill>=0.3 in /usr/local/lib/python3.8/dist-packages (from qiskit-terra==0.23.2->qiskit) (0.3.6)\n",
            "Requirement already satisfied: stevedore>=3.0.0 in /usr/local/lib/python3.8/dist-packages (from qiskit-terra==0.23.2->qiskit) (5.0.0)\n",
            "Requirement already satisfied: six>=1.5 in /usr/local/lib/python3.8/dist-packages (from python-dateutil~=2.8.0->qiskit-ibmq-provider==0.20.1->qiskit) (1.15.0)\n",
            "Requirement already satisfied: certifi>=2017.4.17 in /usr/local/lib/python3.8/dist-packages (from requests~=2.28.0->qiskit-ibmq-provider==0.20.1->qiskit) (2022.12.7)\n",
            "Requirement already satisfied: charset-normalizer<4,>=2 in /usr/local/lib/python3.8/dist-packages (from requests~=2.28.0->qiskit-ibmq-provider==0.20.1->qiskit) (3.0.1)\n",
            "Requirement already satisfied: idna<4,>=2.5 in /usr/local/lib/python3.8/dist-packages (from requests~=2.28.0->qiskit-ibmq-provider==0.20.1->qiskit) (2.10)\n",
            "Requirement already satisfied: cryptography>=1.3 in /usr/local/lib/python3.8/dist-packages (from requests-ntlm~=1.1.0->qiskit-ibmq-provider==0.20.1->qiskit) (39.0.1)\n",
            "Requirement already satisfied: ntlm-auth>=1.0.2 in /usr/local/lib/python3.8/dist-packages (from requests-ntlm~=1.1.0->qiskit-ibmq-provider==0.20.1->qiskit) (1.5.0)\n",
            "Requirement already satisfied: pbr!=2.1.0,>=2.0.0 in /usr/local/lib/python3.8/dist-packages (from stevedore>=3.0.0->qiskit-terra==0.23.2->qiskit) (5.11.1)\n",
            "Requirement already satisfied: mpmath>=0.19 in /usr/local/lib/python3.8/dist-packages (from sympy>=1.3->qiskit-terra==0.23.2->qiskit) (1.2.1)\n",
            "Requirement already satisfied: cffi>=1.12 in /usr/local/lib/python3.8/dist-packages (from cryptography>=1.3->requests-ntlm~=1.1.0->qiskit-ibmq-provider==0.20.1->qiskit) (1.15.1)\n",
            "Requirement already satisfied: pycparser in /usr/local/lib/python3.8/dist-packages (from cffi>=1.12->cryptography>=1.3->requests-ntlm~=1.1.0->qiskit-ibmq-provider==0.20.1->qiskit) (2.21)\n",
            "Looking in indexes: https://pypi.org/simple, https://us-python.pkg.dev/colab-wheels/public/simple/\n",
            "Requirement already satisfied: graphviz in /usr/local/lib/python3.8/dist-packages (0.10.1)\n"
          ]
        }
      ],
      "source": [
        "!pip install qiskit\n",
        "!pip install graphviz"
      ]
    },
    {
      "cell_type": "code",
      "source": [
        "import numpy as np\n",
        "import qiskit\n",
        "import matplotlib.pyplot as plt\n",
        "from qiskit import Aer, QuantumCircuit\n",
        "import graphviz"
      ],
      "metadata": {
        "id": "1Q2ZXDnZnYsc"
      },
      "execution_count": null,
      "outputs": []
    },
    {
      "cell_type": "code",
      "source": [
        "def arks_representation(statevector: list, d:int = 2)->None:\n",
        "  statevector = np.array(statevector)\n",
        "  if np.sum(statevector**2) != 1:\n",
        "    raise Exception(\"The statevector's probability does not add upto 1\")\n",
        "\n",
        "  num_qudits = int(np.log(len(statevector))/np.log(d))\n",
        "\n",
        "  if d**num_qudits != len(statevector):\n",
        "    raise Exception(f\"The statevector's length does not look like a statevector for {d} states\")\n",
        "  graph = graphviz.Graph('arks_repr', format='svg')\n",
        "  graph.graph_attr.update(splines=\"false\", rankdir='LR', ordering=\"out\")\n",
        "  graph.node_attr.update(label=\"\")\n",
        "\n",
        "  for k in range(num_qudits):\n",
        "    with graph.subgraph(name=f\"clusterQ{k}\") as qudit:\n",
        "      qudit.attr(rank=\"same\")\n",
        "      qudit.attr(label=f\"Q{k}\")\n",
        "      qudit.attr(group=\"Q\")\n",
        "      qudit.node_attr.update(shape=\"circle\", style=\"filled\", color=\"#ADD8E6\")\n",
        "      for i in range(d):\n",
        "        label = f\"\\|{i}>\" \n",
        "        label += \"\" if num_qudits > 1 else f\"\\n{np.round(statevector[i],3)}\"\n",
        "        qudit.node(f\"q{k}_{i}\", label=label)\n",
        "\n",
        "  if num_qudits > 1:\n",
        "\n",
        "    # Adding edges between qubits\n",
        "    for state, amp in enumerate(statevector):\n",
        "      if amp != 0:\n",
        "        state = list(np.base_repr(state, base=d).zfill(num_qudits))\n",
        "        color = \"#\"+''.join(np.random.choice(list('0123456789ABCDEF'), 6))\n",
        "\n",
        "        for idx in range(len(state)-1):\n",
        "          graph.edge(f\"q{idx}_{state[idx]}\", \n",
        "                    f\"q{idx+1}_{state[idx+1]}\", \n",
        "                    color=color,\n",
        "                    label=f\"<<font color=\\\"{color}\\\">{np.round(amp,3)}</font>>\",\n",
        "                    fontsize=\"9\")\n",
        "\n",
        "\n",
        "  return graph"
      ],
      "metadata": {
        "id": "wnuEPRGAAdq2"
      },
      "execution_count": 89,
      "outputs": []
    },
    {
      "cell_type": "code",
      "source": [
        "circuit_qubit1 = QuantumCircuit(1)\n",
        "circuit_qubit1.h(0)\n",
        "backend = Aer.get_backend(\"statevector_simulator\")\n",
        "qubit_statevector = backend.run(circuit_qubit1).result().get_statevector()\n",
        "print(qubit_statevector.data)"
      ],
      "metadata": {
        "colab": {
          "base_uri": "https://localhost:8080/"
        },
        "id": "mijyMQFu03ek",
        "outputId": "9649917f-d3dc-425a-945c-0b2cd6959b3d"
      },
      "execution_count": 99,
      "outputs": [
        {
          "output_type": "stream",
          "name": "stdout",
          "text": [
            "[0.70710678+0.j 0.70710678+0.j]\n"
          ]
        }
      ]
    },
    {
      "cell_type": "code",
      "source": [
        "g1 = arks_representation(qubit_statevector.data)\n",
        "g1.render('d2_q1_arks_repr', format=\"png\", view=True)\n",
        "g1"
      ],
      "metadata": {
        "colab": {
          "base_uri": "https://localhost:8080/",
          "height": 412
        },
        "id": "jYiOVIIy0-Zd",
        "outputId": "3fbb56bf-9643-4fe3-9f4d-2ff11572f8e9"
      },
      "execution_count": 100,
      "outputs": [
        {
          "output_type": "execute_result",
          "data": {
            "text/plain": [
              "<graphviz.dot.Graph at 0x7fd908827a00>"
            ],
            "image/svg+xml": "<?xml version=\"1.0\" encoding=\"UTF-8\" standalone=\"no\"?>\n<!DOCTYPE svg PUBLIC \"-//W3C//DTD SVG 1.1//EN\"\n \"http://www.w3.org/Graphics/SVG/1.1/DTD/svg11.dtd\">\n<!-- Generated by graphviz version 2.43.0 (0)\n -->\n<!-- Title: arks_repr Pages: 1 -->\n<svg width=\"146pt\" height=\"293pt\"\n viewBox=\"0.00 0.00 146.07 293.00\" xmlns=\"http://www.w3.org/2000/svg\" xmlns:xlink=\"http://www.w3.org/1999/xlink\">\n<g id=\"graph0\" class=\"graph\" transform=\"scale(1 1) rotate(0) translate(4 289)\">\n<title>arks_repr</title>\n<polygon fill=\"white\" stroke=\"transparent\" points=\"-4,4 -4,-289 142.07,-289 142.07,4 -4,4\"/>\n<g id=\"clust1\" class=\"cluster\">\n<title>clusterQ0</title>\n<polygon fill=\"none\" stroke=\"black\" points=\"8,-8 8,-277 130.07,-277 130.07,-8 8,-8\"/>\n<text text-anchor=\"middle\" x=\"69.03\" y=\"-261.8\" font-family=\"Times,serif\" font-size=\"14.00\">Q0</text>\n</g>\n<!-- q0_0 -->\n<g id=\"node1\" class=\"node\">\n<title>q0_0</title>\n<ellipse fill=\"#add8e6\" stroke=\"#add8e6\" cx=\"69.03\" cy=\"-193\" rx=\"53.07\" ry=\"53.07\"/>\n<text text-anchor=\"middle\" x=\"69.03\" y=\"-196.8\" font-family=\"Times,serif\" font-size=\"14.00\">|0&gt;</text>\n<text text-anchor=\"middle\" x=\"69.03\" y=\"-181.8\" font-family=\"Times,serif\" font-size=\"14.00\">(0.707+0j)</text>\n</g>\n<!-- q0_1 -->\n<g id=\"node2\" class=\"node\">\n<title>q0_1</title>\n<ellipse fill=\"#add8e6\" stroke=\"#add8e6\" cx=\"69.03\" cy=\"-69\" rx=\"53.07\" ry=\"53.07\"/>\n<text text-anchor=\"middle\" x=\"69.03\" y=\"-72.8\" font-family=\"Times,serif\" font-size=\"14.00\">|1&gt;</text>\n<text text-anchor=\"middle\" x=\"69.03\" y=\"-57.8\" font-family=\"Times,serif\" font-size=\"14.00\">(0.707+0j)</text>\n</g>\n</g>\n</svg>\n"
          },
          "metadata": {},
          "execution_count": 100
        }
      ]
    },
    {
      "cell_type": "code",
      "source": [
        "circuit_qubit3 = QuantumCircuit(3)\n",
        "circuit_qubit3.h(0)\n",
        "circuit_qubit3.h(1)\n",
        "circuit_qubit3.cnot(1, 2)\n",
        "backend = Aer.get_backend(\"statevector_simulator\")\n",
        "qubit_statevector = backend.run(circuit_qubit3).result().get_statevector()\n",
        "print(qubit_statevector.data)"
      ],
      "metadata": {
        "colab": {
          "base_uri": "https://localhost:8080/"
        },
        "id": "p2PFUF2ADWb_",
        "outputId": "e12d551b-bac9-4e68-b0f9-16907e0c729f"
      },
      "execution_count": 95,
      "outputs": [
        {
          "output_type": "stream",
          "name": "stdout",
          "text": [
            "[0.5+0.j 0.5+0.j 0. +0.j 0. +0.j 0. +0.j 0. +0.j 0.5+0.j 0.5+0.j]\n"
          ]
        }
      ]
    },
    {
      "cell_type": "code",
      "source": [
        "g2 = arks_representation(qubit_statevector.data)\n",
        "g2.render('d2_arks_repr', format=\"png\", view=True)\n",
        "g2"
      ],
      "metadata": {
        "colab": {
          "base_uri": "https://localhost:8080/",
          "height": 272
        },
        "id": "LD1soUhcEm9L",
        "outputId": "e5292e3d-393a-441a-a2eb-cfbb3ee30ae9"
      },
      "execution_count": 97,
      "outputs": [
        {
          "output_type": "execute_result",
          "data": {
            "text/plain": [
              "<graphviz.dot.Graph at 0x7fd908827a30>"
            ],
            "image/svg+xml": "<?xml version=\"1.0\" encoding=\"UTF-8\" standalone=\"no\"?>\n<!DOCTYPE svg PUBLIC \"-//W3C//DTD SVG 1.1//EN\"\n \"http://www.w3.org/Graphics/SVG/1.1/DTD/svg11.dtd\">\n<!-- Generated by graphviz version 2.43.0 (0)\n -->\n<!-- Title: arks_repr Pages: 1 -->\n<svg width=\"308pt\" height=\"188pt\"\n viewBox=\"0.00 0.00 308.49 188.00\" xmlns=\"http://www.w3.org/2000/svg\" xmlns:xlink=\"http://www.w3.org/1999/xlink\">\n<g id=\"graph0\" class=\"graph\" transform=\"scale(1 1) rotate(0) translate(4 184)\">\n<title>arks_repr</title>\n<polygon fill=\"white\" stroke=\"transparent\" points=\"-4,4 -4,-184 304.49,-184 304.49,4 -4,4\"/>\n<g id=\"clust1\" class=\"cluster\">\n<title>clusterQ0</title>\n<polygon fill=\"none\" stroke=\"black\" points=\"8,-8 8,-156 69.5,-156 69.5,-8 8,-8\"/>\n<text text-anchor=\"middle\" x=\"38.75\" y=\"-140.8\" font-family=\"Times,serif\" font-size=\"14.00\">Q0</text>\n</g>\n<g id=\"clust2\" class=\"cluster\">\n<title>clusterQ1</title>\n<polygon fill=\"none\" stroke=\"black\" points=\"119.5,-15 119.5,-163 180.99,-163 180.99,-15 119.5,-15\"/>\n<text text-anchor=\"middle\" x=\"150.24\" y=\"-147.8\" font-family=\"Times,serif\" font-size=\"14.00\">Q1</text>\n</g>\n<g id=\"clust3\" class=\"cluster\">\n<title>clusterQ2</title>\n<polygon fill=\"none\" stroke=\"black\" points=\"230.99,-24 230.99,-172 292.49,-172 292.49,-24 230.99,-24\"/>\n<text text-anchor=\"middle\" x=\"261.74\" y=\"-156.8\" font-family=\"Times,serif\" font-size=\"14.00\">Q2</text>\n</g>\n<!-- q0_0 -->\n<g id=\"node1\" class=\"node\">\n<title>q0_0</title>\n<ellipse fill=\"#add8e6\" stroke=\"#add8e6\" cx=\"38.75\" cy=\"-102\" rx=\"23\" ry=\"23\"/>\n<text text-anchor=\"middle\" x=\"38.75\" y=\"-98.3\" font-family=\"Times,serif\" font-size=\"14.00\">|0&gt;</text>\n</g>\n<!-- q1_0 -->\n<g id=\"node3\" class=\"node\">\n<title>q1_0</title>\n<ellipse fill=\"#add8e6\" stroke=\"#add8e6\" cx=\"150.24\" cy=\"-109\" rx=\"23\" ry=\"23\"/>\n<text text-anchor=\"middle\" x=\"150.24\" y=\"-105.3\" font-family=\"Times,serif\" font-size=\"14.00\">|0&gt;</text>\n</g>\n<!-- q0_0&#45;&#45;q1_0 -->\n<g id=\"edge1\" class=\"edge\">\n<title>q0_0&#45;&#45;q1_0</title>\n<path fill=\"none\" stroke=\"#ca8910\" d=\"M61.64,-103.4C80.74,-104.62 108.3,-106.38 127.39,-107.6\"/>\n<text text-anchor=\"start\" x=\"79.5\" y=\"-108.8\" font-family=\"Times,serif\" font-size=\"9.00\" fill=\"#ca8910\">(0.5+0j)</text>\n</g>\n<!-- q0_0&#45;&#45;q1_0 -->\n<g id=\"edge3\" class=\"edge\">\n<title>q0_0&#45;&#45;q1_0</title>\n<path fill=\"none\" stroke=\"#016971\" d=\"M61.64,-103.4C80.74,-104.62 108.3,-106.38 127.39,-107.6\"/>\n<text text-anchor=\"start\" x=\"79.5\" y=\"-96.8\" font-family=\"Times,serif\" font-size=\"9.00\" fill=\"#016971\">(0.5+0j)</text>\n</g>\n<!-- q0_1 -->\n<g id=\"node2\" class=\"node\">\n<title>q0_1</title>\n<ellipse fill=\"#add8e6\" stroke=\"#add8e6\" cx=\"38.75\" cy=\"-39\" rx=\"23\" ry=\"23\"/>\n<text text-anchor=\"middle\" x=\"38.75\" y=\"-35.3\" font-family=\"Times,serif\" font-size=\"14.00\">|1&gt;</text>\n</g>\n<!-- q1_1 -->\n<g id=\"node4\" class=\"node\">\n<title>q1_1</title>\n<ellipse fill=\"#add8e6\" stroke=\"#add8e6\" cx=\"150.24\" cy=\"-46\" rx=\"23\" ry=\"23\"/>\n<text text-anchor=\"middle\" x=\"150.24\" y=\"-42.3\" font-family=\"Times,serif\" font-size=\"14.00\">|1&gt;</text>\n</g>\n<!-- q0_1&#45;&#45;q1_1 -->\n<g id=\"edge5\" class=\"edge\">\n<title>q0_1&#45;&#45;q1_1</title>\n<path fill=\"none\" stroke=\"#dcdbbf\" d=\"M61.64,-40.4C80.74,-41.62 108.3,-43.38 127.39,-44.6\"/>\n<text text-anchor=\"start\" x=\"79.5\" y=\"-45.8\" font-family=\"Times,serif\" font-size=\"9.00\" fill=\"#dcdbbf\">(0.5+0j)</text>\n</g>\n<!-- q0_1&#45;&#45;q1_1 -->\n<g id=\"edge7\" class=\"edge\">\n<title>q0_1&#45;&#45;q1_1</title>\n<path fill=\"none\" stroke=\"#844939\" d=\"M61.64,-40.4C80.74,-41.62 108.3,-43.38 127.39,-44.6\"/>\n<text text-anchor=\"start\" x=\"79.5\" y=\"-29.8\" font-family=\"Times,serif\" font-size=\"9.00\" fill=\"#844939\">(0.5+0j)</text>\n</g>\n<!-- q2_0 -->\n<g id=\"node5\" class=\"node\">\n<title>q2_0</title>\n<ellipse fill=\"#add8e6\" stroke=\"#add8e6\" cx=\"261.74\" cy=\"-118\" rx=\"23\" ry=\"23\"/>\n<text text-anchor=\"middle\" x=\"261.74\" y=\"-114.3\" font-family=\"Times,serif\" font-size=\"14.00\">|0&gt;</text>\n</g>\n<!-- q1_0&#45;&#45;q2_0 -->\n<g id=\"edge2\" class=\"edge\">\n<title>q1_0&#45;&#45;q2_0</title>\n<path fill=\"none\" stroke=\"#ca8910\" d=\"M173.14,-110.8C192.24,-112.37 219.8,-114.63 238.88,-116.2\"/>\n<text text-anchor=\"start\" x=\"190.99\" y=\"-116.8\" font-family=\"Times,serif\" font-size=\"9.00\" fill=\"#ca8910\">(0.5+0j)</text>\n</g>\n<!-- q2_1 -->\n<g id=\"node6\" class=\"node\">\n<title>q2_1</title>\n<ellipse fill=\"#add8e6\" stroke=\"#add8e6\" cx=\"261.74\" cy=\"-55\" rx=\"23\" ry=\"23\"/>\n<text text-anchor=\"middle\" x=\"261.74\" y=\"-51.3\" font-family=\"Times,serif\" font-size=\"14.00\">|1&gt;</text>\n</g>\n<!-- q1_0&#45;&#45;q2_1 -->\n<g id=\"edge4\" class=\"edge\">\n<title>q1_0&#45;&#45;q2_1</title>\n<path fill=\"none\" stroke=\"#016971\" d=\"M171.07,-99.22C190.92,-89.43 221.27,-74.47 241.06,-64.71\"/>\n<text text-anchor=\"start\" x=\"190.99\" y=\"-90.8\" font-family=\"Times,serif\" font-size=\"9.00\" fill=\"#016971\">(0.5+0j)</text>\n</g>\n<!-- q1_1&#45;&#45;q2_0 -->\n<g id=\"edge6\" class=\"edge\">\n<title>q1_1&#45;&#45;q2_0</title>\n<path fill=\"none\" stroke=\"#dcdbbf\" d=\"M169.82,-58.21C189.95,-71.45 221.9,-92.46 242.07,-105.73\"/>\n<text text-anchor=\"start\" x=\"190.99\" y=\"-63.8\" font-family=\"Times,serif\" font-size=\"9.00\" fill=\"#dcdbbf\">(0.5+0j)</text>\n</g>\n<!-- q1_1&#45;&#45;q2_1 -->\n<g id=\"edge8\" class=\"edge\">\n<title>q1_1&#45;&#45;q2_1</title>\n<path fill=\"none\" stroke=\"#844939\" d=\"M173.14,-47.8C192.24,-49.37 219.8,-51.63 238.88,-53.2\"/>\n<text text-anchor=\"start\" x=\"190.99\" y=\"-31.8\" font-family=\"Times,serif\" font-size=\"9.00\" fill=\"#844939\">(0.5+0j)</text>\n</g>\n</g>\n</svg>\n"
          },
          "metadata": {},
          "execution_count": 97
        }
      ]
    },
    {
      "cell_type": "code",
      "source": [
        "qutrit_statevector = [0.5+0.j, 0. +0.j, 0. +0.j, 0. +0.j, 0. +0.j, 0. +0.j, 0.5+0.j, 0.5+0.j, 0.5+0.j]\n",
        "g3 = arks_representation(qutrit_statevector, d=3)\n",
        "g3.render('d3_arks_repr', format=\"png\", view=True)\n",
        "g3"
      ],
      "metadata": {
        "colab": {
          "base_uri": "https://localhost:8080/",
          "height": 379
        },
        "id": "vxIctiKMHRca",
        "outputId": "dd418cb0-eb9c-493e-ce65-5cf43db90d9f"
      },
      "execution_count": 92,
      "outputs": [
        {
          "output_type": "execute_result",
          "data": {
            "text/plain": [
              "<graphviz.dot.Graph at 0x7fd90888dc40>"
            ],
            "image/svg+xml": "<?xml version=\"1.0\" encoding=\"UTF-8\" standalone=\"no\"?>\n<!DOCTYPE svg PUBLIC \"-//W3C//DTD SVG 1.1//EN\"\n \"http://www.w3.org/Graphics/SVG/1.1/DTD/svg11.dtd\">\n<!-- Generated by graphviz version 2.43.0 (0)\n -->\n<!-- Title: arks_repr Pages: 1 -->\n<svg width=\"197pt\" height=\"268pt\"\n viewBox=\"0.00 0.00 196.99 268.00\" xmlns=\"http://www.w3.org/2000/svg\" xmlns:xlink=\"http://www.w3.org/1999/xlink\">\n<g id=\"graph0\" class=\"graph\" transform=\"scale(1 1) rotate(0) translate(4 264)\">\n<title>arks_repr</title>\n<polygon fill=\"white\" stroke=\"transparent\" points=\"-4,4 -4,-264 192.99,-264 192.99,4 -4,4\"/>\n<g id=\"clust1\" class=\"cluster\">\n<title>clusterQ0</title>\n<polygon fill=\"none\" stroke=\"black\" points=\"8,-41 8,-252 69.5,-252 69.5,-41 8,-41\"/>\n<text text-anchor=\"middle\" x=\"38.75\" y=\"-236.8\" font-family=\"Times,serif\" font-size=\"14.00\">Q0</text>\n</g>\n<g id=\"clust2\" class=\"cluster\">\n<title>clusterQ1</title>\n<polygon fill=\"none\" stroke=\"black\" points=\"119.5,-8 119.5,-219 180.99,-219 180.99,-8 119.5,-8\"/>\n<text text-anchor=\"middle\" x=\"150.24\" y=\"-203.8\" font-family=\"Times,serif\" font-size=\"14.00\">Q1</text>\n</g>\n<!-- q0_0 -->\n<g id=\"node1\" class=\"node\">\n<title>q0_0</title>\n<ellipse fill=\"#add8e6\" stroke=\"#add8e6\" cx=\"38.75\" cy=\"-198\" rx=\"23\" ry=\"23\"/>\n<text text-anchor=\"middle\" x=\"38.75\" y=\"-194.3\" font-family=\"Times,serif\" font-size=\"14.00\">|0&gt;</text>\n</g>\n<!-- q1_0 -->\n<g id=\"node4\" class=\"node\">\n<title>q1_0</title>\n<ellipse fill=\"#add8e6\" stroke=\"#add8e6\" cx=\"150.24\" cy=\"-165\" rx=\"23\" ry=\"23\"/>\n<text text-anchor=\"middle\" x=\"150.24\" y=\"-161.3\" font-family=\"Times,serif\" font-size=\"14.00\">|0&gt;</text>\n</g>\n<!-- q0_0&#45;&#45;q1_0 -->\n<g id=\"edge1\" class=\"edge\">\n<title>q0_0&#45;&#45;q1_0</title>\n<path fill=\"none\" stroke=\"#6184ab\" d=\"M60.86,-191.64C80.25,-185.79 108.83,-177.18 128.2,-171.34\"/>\n<text text-anchor=\"start\" x=\"79.5\" y=\"-187.8\" font-family=\"Times,serif\" font-size=\"9.00\" fill=\"#6184ab\">(0.5+0j)</text>\n</g>\n<!-- q0_1 -->\n<g id=\"node2\" class=\"node\">\n<title>q0_1</title>\n<ellipse fill=\"#add8e6\" stroke=\"#add8e6\" cx=\"38.75\" cy=\"-135\" rx=\"23\" ry=\"23\"/>\n<text text-anchor=\"middle\" x=\"38.75\" y=\"-131.3\" font-family=\"Times,serif\" font-size=\"14.00\">|1&gt;</text>\n</g>\n<!-- q0_2 -->\n<g id=\"node3\" class=\"node\">\n<title>q0_2</title>\n<ellipse fill=\"#add8e6\" stroke=\"#add8e6\" cx=\"38.75\" cy=\"-72\" rx=\"23\" ry=\"23\"/>\n<text text-anchor=\"middle\" x=\"38.75\" y=\"-68.3\" font-family=\"Times,serif\" font-size=\"14.00\">|2&gt;</text>\n</g>\n<!-- q0_2&#45;&#45;q1_0 -->\n<g id=\"edge2\" class=\"edge\">\n<title>q0_2&#45;&#45;q1_0</title>\n<path fill=\"none\" stroke=\"#5223c6\" d=\"M56.86,-86.53C77.43,-104 111.74,-133.14 132.26,-150.57\"/>\n<text text-anchor=\"start\" x=\"79.5\" y=\"-131.8\" font-family=\"Times,serif\" font-size=\"9.00\" fill=\"#5223c6\">(0.5+0j)</text>\n</g>\n<!-- q1_1 -->\n<g id=\"node5\" class=\"node\">\n<title>q1_1</title>\n<ellipse fill=\"#add8e6\" stroke=\"#add8e6\" cx=\"150.24\" cy=\"-102\" rx=\"23\" ry=\"23\"/>\n<text text-anchor=\"middle\" x=\"150.24\" y=\"-98.3\" font-family=\"Times,serif\" font-size=\"14.00\">|1&gt;</text>\n</g>\n<!-- q0_2&#45;&#45;q1_1 -->\n<g id=\"edge3\" class=\"edge\">\n<title>q0_2&#45;&#45;q1_1</title>\n<path fill=\"none\" stroke=\"#d14073\" d=\"M60.86,-77.78C80.25,-83.1 108.83,-90.93 128.2,-96.23\"/>\n<text text-anchor=\"start\" x=\"79.5\" y=\"-92.8\" font-family=\"Times,serif\" font-size=\"9.00\" fill=\"#d14073\">(0.5+0j)</text>\n</g>\n<!-- q1_2 -->\n<g id=\"node6\" class=\"node\">\n<title>q1_2</title>\n<ellipse fill=\"#add8e6\" stroke=\"#add8e6\" cx=\"150.24\" cy=\"-39\" rx=\"23\" ry=\"23\"/>\n<text text-anchor=\"middle\" x=\"150.24\" y=\"-35.3\" font-family=\"Times,serif\" font-size=\"14.00\">|2&gt;</text>\n</g>\n<!-- q0_2&#45;&#45;q1_2 -->\n<g id=\"edge4\" class=\"edge\">\n<title>q0_2&#45;&#45;q1_2</title>\n<path fill=\"none\" stroke=\"#5d8ae2\" d=\"M60.86,-65.64C80.25,-59.79 108.83,-51.18 128.2,-45.34\"/>\n<text text-anchor=\"start\" x=\"79.5\" y=\"-61.8\" font-family=\"Times,serif\" font-size=\"9.00\" fill=\"#5d8ae2\">(0.5+0j)</text>\n</g>\n</g>\n</svg>\n"
          },
          "metadata": {},
          "execution_count": 92
        }
      ]
    },
    {
      "cell_type": "code",
      "source": [],
      "metadata": {
        "id": "rcJ7xbNRFGWj"
      },
      "execution_count": null,
      "outputs": []
    }
  ]
}