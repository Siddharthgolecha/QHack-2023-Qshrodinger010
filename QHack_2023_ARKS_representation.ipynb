{
  "nbformat": 4,
  "nbformat_minor": 0,
  "metadata": {
    "colab": {
      "provenance": [],
      "include_colab_link": true
    },
    "kernelspec": {
      "name": "python3",
      "display_name": "Python 3"
    },
    "language_info": {
      "name": "python"
    }
  },
  "cells": [
    {
      "cell_type": "markdown",
      "metadata": {
        "id": "view-in-github",
        "colab_type": "text"
      },
      "source": [
        "<a href=\"https://colab.research.google.com/github/Siddharthgolecha/QHack-2023-Qshrodinger010/blob/main/QHack_2023_ARKS_representation.ipynb\" target=\"_parent\"><img src=\"https://colab.research.google.com/assets/colab-badge.svg\" alt=\"Open In Colab\"/></a>"
      ]
    },
    {
      "cell_type": "code",
      "execution_count": 104,
      "metadata": {
        "id": "OtHjc8WOaeKC",
        "colab": {
          "base_uri": "https://localhost:8080/"
        },
        "outputId": "ce75c762-59be-46d3-d031-544c105e232e"
      },
      "outputs": [
        {
          "output_type": "stream",
          "name": "stdout",
          "text": [
            "Looking in indexes: https://pypi.org/simple, https://us-python.pkg.dev/colab-wheels/public/simple/\n",
            "Requirement already satisfied: qiskit in /usr/local/lib/python3.8/dist-packages (0.41.1)\n",
            "Requirement already satisfied: qiskit-ibmq-provider==0.20.1 in /usr/local/lib/python3.8/dist-packages (from qiskit) (0.20.1)\n",
            "Requirement already satisfied: qiskit-terra==0.23.2 in /usr/local/lib/python3.8/dist-packages (from qiskit) (0.23.2)\n",
            "Requirement already satisfied: qiskit-aer==0.11.2 in /usr/local/lib/python3.8/dist-packages (from qiskit) (0.11.2)\n",
            "Requirement already satisfied: numpy>=1.16.3 in /usr/local/lib/python3.8/dist-packages (from qiskit-aer==0.11.2->qiskit) (1.22.4)\n",
            "Requirement already satisfied: scipy>=1.0 in /usr/local/lib/python3.8/dist-packages (from qiskit-aer==0.11.2->qiskit) (1.7.3)\n",
            "Requirement already satisfied: python-dateutil~=2.8.0 in /usr/local/lib/python3.8/dist-packages (from qiskit-ibmq-provider==0.20.1->qiskit) (2.8.2)\n",
            "Requirement already satisfied: requests-ntlm~=1.1.0 in /usr/local/lib/python3.8/dist-packages (from qiskit-ibmq-provider==0.20.1->qiskit) (1.1.0)\n",
            "Requirement already satisfied: websockets~=10.0 in /usr/local/lib/python3.8/dist-packages (from qiskit-ibmq-provider==0.20.1->qiskit) (10.4)\n",
            "Requirement already satisfied: urllib3~=1.26.0 in /usr/local/lib/python3.8/dist-packages (from qiskit-ibmq-provider==0.20.1->qiskit) (1.26.14)\n",
            "Requirement already satisfied: requests~=2.28.0 in /usr/local/lib/python3.8/dist-packages (from qiskit-ibmq-provider==0.20.1->qiskit) (2.28.2)\n",
            "Requirement already satisfied: websocket-client~=1.5.1 in /usr/local/lib/python3.8/dist-packages (from qiskit-ibmq-provider==0.20.1->qiskit) (1.5.1)\n",
            "Requirement already satisfied: sympy>=1.3 in /usr/local/lib/python3.8/dist-packages (from qiskit-terra==0.23.2->qiskit) (1.7.1)\n",
            "Requirement already satisfied: psutil>=5 in /usr/local/lib/python3.8/dist-packages (from qiskit-terra==0.23.2->qiskit) (5.4.8)\n",
            "Requirement already satisfied: dill>=0.3 in /usr/local/lib/python3.8/dist-packages (from qiskit-terra==0.23.2->qiskit) (0.3.6)\n",
            "Requirement already satisfied: ply>=3.10 in /usr/local/lib/python3.8/dist-packages (from qiskit-terra==0.23.2->qiskit) (3.11)\n",
            "Requirement already satisfied: symengine>=0.9 in /usr/local/lib/python3.8/dist-packages (from qiskit-terra==0.23.2->qiskit) (0.9.2)\n",
            "Requirement already satisfied: stevedore>=3.0.0 in /usr/local/lib/python3.8/dist-packages (from qiskit-terra==0.23.2->qiskit) (5.0.0)\n",
            "Requirement already satisfied: rustworkx>=0.12.0 in /usr/local/lib/python3.8/dist-packages (from qiskit-terra==0.23.2->qiskit) (0.12.1)\n",
            "Requirement already satisfied: six>=1.5 in /usr/local/lib/python3.8/dist-packages (from python-dateutil~=2.8.0->qiskit-ibmq-provider==0.20.1->qiskit) (1.15.0)\n",
            "Requirement already satisfied: charset-normalizer<4,>=2 in /usr/local/lib/python3.8/dist-packages (from requests~=2.28.0->qiskit-ibmq-provider==0.20.1->qiskit) (3.0.1)\n",
            "Requirement already satisfied: certifi>=2017.4.17 in /usr/local/lib/python3.8/dist-packages (from requests~=2.28.0->qiskit-ibmq-provider==0.20.1->qiskit) (2022.12.7)\n",
            "Requirement already satisfied: idna<4,>=2.5 in /usr/local/lib/python3.8/dist-packages (from requests~=2.28.0->qiskit-ibmq-provider==0.20.1->qiskit) (2.10)\n",
            "Requirement already satisfied: ntlm-auth>=1.0.2 in /usr/local/lib/python3.8/dist-packages (from requests-ntlm~=1.1.0->qiskit-ibmq-provider==0.20.1->qiskit) (1.5.0)\n",
            "Requirement already satisfied: cryptography>=1.3 in /usr/local/lib/python3.8/dist-packages (from requests-ntlm~=1.1.0->qiskit-ibmq-provider==0.20.1->qiskit) (39.0.1)\n",
            "Requirement already satisfied: pbr!=2.1.0,>=2.0.0 in /usr/local/lib/python3.8/dist-packages (from stevedore>=3.0.0->qiskit-terra==0.23.2->qiskit) (5.11.1)\n",
            "Requirement already satisfied: mpmath>=0.19 in /usr/local/lib/python3.8/dist-packages (from sympy>=1.3->qiskit-terra==0.23.2->qiskit) (1.2.1)\n",
            "Requirement already satisfied: cffi>=1.12 in /usr/local/lib/python3.8/dist-packages (from cryptography>=1.3->requests-ntlm~=1.1.0->qiskit-ibmq-provider==0.20.1->qiskit) (1.15.1)\n",
            "Requirement already satisfied: pycparser in /usr/local/lib/python3.8/dist-packages (from cffi>=1.12->cryptography>=1.3->requests-ntlm~=1.1.0->qiskit-ibmq-provider==0.20.1->qiskit) (2.21)\n",
            "Looking in indexes: https://pypi.org/simple, https://us-python.pkg.dev/colab-wheels/public/simple/\n",
            "Requirement already satisfied: graphviz in /usr/local/lib/python3.8/dist-packages (0.10.1)\n"
          ]
        }
      ],
      "source": [
        "!pip install qiskit\n",
        "!pip install graphviz"
      ]
    },
    {
      "cell_type": "code",
      "source": [
        "import numpy as np\n",
        "import qiskit\n",
        "import matplotlib.pyplot as plt\n",
        "from qiskit import Aer, QuantumCircuit\n",
        "import graphviz"
      ],
      "metadata": {
        "id": "1Q2ZXDnZnYsc"
      },
      "execution_count": 105,
      "outputs": []
    },
    {
      "cell_type": "markdown",
      "source": [
        "# ARKS Representation\n",
        "\n",
        "For a given statevector $|\\psi\\rangle$, the graph is constructed with the following rules - \n",
        "1. In the case of a single qudit state, the states are written in a column, with the corresponding probability amplitude below each state.\n",
        "2. $d*number\\_of\\_qudits$ nodes are created, with each $Z$-basis state written in the same row.\n",
        "3. Each qudit is in a column.\n",
        "4. Weighted edges between states represent a state, with the weights given by the probability amplitude."
      ],
      "metadata": {
        "id": "X_ju2jdx1_Qx"
      }
    },
    {
      "cell_type": "code",
      "source": [
        "def arks_representation(statevector: list, d:int = 2)->None:\n",
        "  statevector = np.array(statevector)\n",
        "  if np.sum(statevector**2) != 1:\n",
        "    raise Exception(\"The statevector's probability does not add upto 1\")\n",
        "\n",
        "  num_qudits = int(np.log(len(statevector))/np.log(d))\n",
        "  if d**num_qudits != len(statevector):\n",
        "    raise Exception(f\"The statevector's length does not look like a statevector for {d} states\")\n",
        "\n",
        "  graph = graphviz.Graph('arks_repr', format='svg')\n",
        "  graph.graph_attr.update(splines=\"false\", rankdir='LR', ordering=\"out\")\n",
        "  graph.node_attr.update(label=\"\")\n",
        "\n",
        "  for k in range(num_qudits):\n",
        "    with graph.subgraph(name=f\"clusterQ{k}\") as qudit: # Creating clusters for a qudit\n",
        "      qudit.attr(rank=\"same\")\n",
        "      qudit.attr(label=f\"Q{k}\")\n",
        "      qudit.attr(group=\"Q\")\n",
        "      qudit.node_attr.update(shape=\"circle\", style=\"filled\", color=\"#ADD8E6\")\n",
        "      for i in range(d): # Adding qudit states of a qudit\n",
        "        label = f\"\\|{i}⟩\" \n",
        "        label += \"\" if num_qudits > 1 else f\"\\n{np.round(statevector[i],3)}\"\n",
        "        qudit.node(f\"q{k}_{i}\", label=label)\n",
        "\n",
        "  if num_qudits > 1:\n",
        "\n",
        "    # Adding edges between qudits\n",
        "    for state, amp in enumerate(statevector):\n",
        "      if amp != 0:\n",
        "        state = list(np.base_repr(state, base=d).zfill(num_qudits))\n",
        "        color = \"#\"+''.join(np.random.choice(list('0123456789ABCDEF'), 6)) #Randomly choosing a color\n",
        "\n",
        "        # Connecting the states of the qudits to represent the statevector\n",
        "        for idx in range(len(state)-1):\n",
        "          graph.edge(f\"q{idx}_{state[idx]}\", \n",
        "                    f\"q{idx+1}_{state[idx+1]}\", \n",
        "                    color=color,\n",
        "                    label=f\"<<font color=\\\"{color}\\\">{np.round(amp,3)}</font>>\",\n",
        "                    fontsize=\"9\")\n",
        "\n",
        "\n",
        "  return graph"
      ],
      "metadata": {
        "id": "wnuEPRGAAdq2"
      },
      "execution_count": 106,
      "outputs": []
    },
    {
      "cell_type": "markdown",
      "source": [
        "## Examples"
      ],
      "metadata": {
        "id": "xU3jTAb45vOi"
      }
    },
    {
      "cell_type": "markdown",
      "source": [
        "### One Qubit ARKS Representation"
      ],
      "metadata": {
        "id": "owS58TzU50EX"
      }
    },
    {
      "cell_type": "code",
      "source": [
        "circuit_qubit1 = QuantumCircuit(1)\n",
        "circuit_qubit1.h(0)\n",
        "backend = Aer.get_backend(\"statevector_simulator\")\n",
        "qubit_statevector = backend.run(circuit_qubit1).result().get_statevector()\n",
        "print(qubit_statevector.data)"
      ],
      "metadata": {
        "colab": {
          "base_uri": "https://localhost:8080/"
        },
        "id": "mijyMQFu03ek",
        "outputId": "f7a8e000-cc13-497d-a782-71f9289ae8af"
      },
      "execution_count": 116,
      "outputs": [
        {
          "output_type": "stream",
          "name": "stdout",
          "text": [
            "[0.70710678+0.j 0.70710678+0.j]\n"
          ]
        }
      ]
    },
    {
      "cell_type": "code",
      "source": [
        "g1 = arks_representation(qubit_statevector.data)\n",
        "g1.render('d2_q1_arks_repr', format=\"svg\", view=True)\n",
        "g1"
      ],
      "metadata": {
        "colab": {
          "base_uri": "https://localhost:8080/",
          "height": 412
        },
        "id": "jYiOVIIy0-Zd",
        "outputId": "b7677b1f-da98-42c9-bf3a-2be6867951d1"
      },
      "execution_count": 117,
      "outputs": [
        {
          "output_type": "execute_result",
          "data": {
            "text/plain": [
              "<graphviz.dot.Graph at 0x7fd9088351f0>"
            ],
            "image/svg+xml": "<?xml version=\"1.0\" encoding=\"UTF-8\" standalone=\"no\"?>\n<!DOCTYPE svg PUBLIC \"-//W3C//DTD SVG 1.1//EN\"\n \"http://www.w3.org/Graphics/SVG/1.1/DTD/svg11.dtd\">\n<!-- Generated by graphviz version 2.43.0 (0)\n -->\n<!-- Title: arks_repr Pages: 1 -->\n<svg width=\"146pt\" height=\"293pt\"\n viewBox=\"0.00 0.00 146.07 293.00\" xmlns=\"http://www.w3.org/2000/svg\" xmlns:xlink=\"http://www.w3.org/1999/xlink\">\n<g id=\"graph0\" class=\"graph\" transform=\"scale(1 1) rotate(0) translate(4 289)\">\n<title>arks_repr</title>\n<polygon fill=\"white\" stroke=\"transparent\" points=\"-4,4 -4,-289 142.07,-289 142.07,4 -4,4\"/>\n<g id=\"clust1\" class=\"cluster\">\n<title>clusterQ0</title>\n<polygon fill=\"none\" stroke=\"black\" points=\"8,-8 8,-277 130.07,-277 130.07,-8 8,-8\"/>\n<text text-anchor=\"middle\" x=\"69.03\" y=\"-261.8\" font-family=\"Times,serif\" font-size=\"14.00\">Q0</text>\n</g>\n<!-- q0_0 -->\n<g id=\"node1\" class=\"node\">\n<title>q0_0</title>\n<ellipse fill=\"#add8e6\" stroke=\"#add8e6\" cx=\"69.03\" cy=\"-193\" rx=\"53.07\" ry=\"53.07\"/>\n<text text-anchor=\"middle\" x=\"69.03\" y=\"-196.8\" font-family=\"Times,serif\" font-size=\"14.00\">|0⟩</text>\n<text text-anchor=\"middle\" x=\"69.03\" y=\"-181.8\" font-family=\"Times,serif\" font-size=\"14.00\">(0.707+0j)</text>\n</g>\n<!-- q0_1 -->\n<g id=\"node2\" class=\"node\">\n<title>q0_1</title>\n<ellipse fill=\"#add8e6\" stroke=\"#add8e6\" cx=\"69.03\" cy=\"-69\" rx=\"53.07\" ry=\"53.07\"/>\n<text text-anchor=\"middle\" x=\"69.03\" y=\"-72.8\" font-family=\"Times,serif\" font-size=\"14.00\">|1⟩</text>\n<text text-anchor=\"middle\" x=\"69.03\" y=\"-57.8\" font-family=\"Times,serif\" font-size=\"14.00\">(0.707+0j)</text>\n</g>\n</g>\n</svg>\n"
          },
          "metadata": {},
          "execution_count": 117
        }
      ]
    },
    {
      "cell_type": "markdown",
      "source": [
        "### 3 Qubits ARKS Representation"
      ],
      "metadata": {
        "id": "GCI3DPAH5-PR"
      }
    },
    {
      "cell_type": "code",
      "source": [
        "circuit_qubit3 = QuantumCircuit(3)\n",
        "circuit_qubit3.h(0)\n",
        "circuit_qubit3.h(1)\n",
        "circuit_qubit3.cnot(1, 2)\n",
        "backend = Aer.get_backend(\"statevector_simulator\")\n",
        "qubit_statevector = backend.run(circuit_qubit3).result().get_statevector()\n",
        "print(qubit_statevector.data)"
      ],
      "metadata": {
        "colab": {
          "base_uri": "https://localhost:8080/"
        },
        "id": "p2PFUF2ADWb_",
        "outputId": "40ddd7fe-c363-4974-e3c9-14007979bd3d"
      },
      "execution_count": 113,
      "outputs": [
        {
          "output_type": "stream",
          "name": "stdout",
          "text": [
            "[0.5+0.j 0.5+0.j 0. +0.j 0. +0.j 0. +0.j 0. +0.j 0.5+0.j 0.5+0.j]\n"
          ]
        }
      ]
    },
    {
      "cell_type": "code",
      "source": [
        "g2 = arks_representation(qubit_statevector.data)\n",
        "g2.render('d2_arks_repr', format=\"svg\", view=True)\n",
        "g2"
      ],
      "metadata": {
        "colab": {
          "base_uri": "https://localhost:8080/",
          "height": 311
        },
        "id": "LD1soUhcEm9L",
        "outputId": "0164ad1c-6ccd-4945-b05a-867e55fb2924"
      },
      "execution_count": 114,
      "outputs": [
        {
          "output_type": "execute_result",
          "data": {
            "text/plain": [
              "<graphviz.dot.Graph at 0x7fd908835e20>"
            ],
            "image/svg+xml": "<?xml version=\"1.0\" encoding=\"UTF-8\" standalone=\"no\"?>\n<!DOCTYPE svg PUBLIC \"-//W3C//DTD SVG 1.1//EN\"\n \"http://www.w3.org/Graphics/SVG/1.1/DTD/svg11.dtd\">\n<!-- Generated by graphviz version 2.43.0 (0)\n -->\n<!-- Title: arks_repr Pages: 1 -->\n<svg width=\"332pt\" height=\"217pt\"\n viewBox=\"0.00 0.00 331.89 217.00\" xmlns=\"http://www.w3.org/2000/svg\" xmlns:xlink=\"http://www.w3.org/1999/xlink\">\n<g id=\"graph0\" class=\"graph\" transform=\"scale(1 1) rotate(0) translate(4 213)\">\n<title>arks_repr</title>\n<polygon fill=\"white\" stroke=\"transparent\" points=\"-4,4 -4,-213 327.89,-213 327.89,4 -4,4\"/>\n<g id=\"clust1\" class=\"cluster\">\n<title>clusterQ0</title>\n<polygon fill=\"none\" stroke=\"black\" points=\"8,-37 8,-201 77.3,-201 77.3,-37 8,-37\"/>\n<text text-anchor=\"middle\" x=\"42.65\" y=\"-185.8\" font-family=\"Times,serif\" font-size=\"14.00\">Q0</text>\n</g>\n<g id=\"clust2\" class=\"cluster\">\n<title>clusterQ1</title>\n<polygon fill=\"none\" stroke=\"black\" points=\"127.3,-22 127.3,-186 196.59,-186 196.59,-22 127.3,-22\"/>\n<text text-anchor=\"middle\" x=\"161.94\" y=\"-170.8\" font-family=\"Times,serif\" font-size=\"14.00\">Q1</text>\n</g>\n<g id=\"clust3\" class=\"cluster\">\n<title>clusterQ2</title>\n<polygon fill=\"none\" stroke=\"black\" points=\"246.59,-8 246.59,-172 315.89,-172 315.89,-8 246.59,-8\"/>\n<text text-anchor=\"middle\" x=\"281.24\" y=\"-156.8\" font-family=\"Times,serif\" font-size=\"14.00\">Q2</text>\n</g>\n<!-- q0_0 -->\n<g id=\"node1\" class=\"node\">\n<title>q0_0</title>\n<ellipse fill=\"#add8e6\" stroke=\"#add8e6\" cx=\"42.65\" cy=\"-143\" rx=\"26.8\" ry=\"26.8\"/>\n<text text-anchor=\"middle\" x=\"42.65\" y=\"-139.3\" font-family=\"Times,serif\" font-size=\"14.00\">|0⟩</text>\n</g>\n<!-- q1_0 -->\n<g id=\"node3\" class=\"node\">\n<title>q1_0</title>\n<ellipse fill=\"#add8e6\" stroke=\"#add8e6\" cx=\"161.94\" cy=\"-128\" rx=\"26.8\" ry=\"26.8\"/>\n<text text-anchor=\"middle\" x=\"161.94\" y=\"-124.3\" font-family=\"Times,serif\" font-size=\"14.00\">|0⟩</text>\n</g>\n<!-- q0_0&#45;&#45;q1_0 -->\n<g id=\"edge1\" class=\"edge\">\n<title>q0_0&#45;&#45;q1_0</title>\n<path fill=\"none\" stroke=\"#8a4b8f\" d=\"M69.1,-139.75C88.64,-137.25 115.51,-133.81 135.14,-131.3\"/>\n<text text-anchor=\"start\" x=\"87.3\" y=\"-139.8\" font-family=\"Times,serif\" font-size=\"9.00\" fill=\"#8a4b8f\">(0.5+0j)</text>\n</g>\n<!-- q0_0&#45;&#45;q1_0 -->\n<g id=\"edge3\" class=\"edge\">\n<title>q0_0&#45;&#45;q1_0</title>\n<path fill=\"none\" stroke=\"#698a56\" d=\"M69.1,-139.75C88.64,-137.25 115.51,-133.81 135.14,-131.3\"/>\n<text text-anchor=\"start\" x=\"87.3\" y=\"-121.8\" font-family=\"Times,serif\" font-size=\"9.00\" fill=\"#698a56\">(0.5+0j)</text>\n</g>\n<!-- q0_1 -->\n<g id=\"node2\" class=\"node\">\n<title>q0_1</title>\n<ellipse fill=\"#add8e6\" stroke=\"#add8e6\" cx=\"42.65\" cy=\"-72\" rx=\"26.8\" ry=\"26.8\"/>\n<text text-anchor=\"middle\" x=\"42.65\" y=\"-68.3\" font-family=\"Times,serif\" font-size=\"14.00\">|1⟩</text>\n</g>\n<!-- q1_1 -->\n<g id=\"node4\" class=\"node\">\n<title>q1_1</title>\n<ellipse fill=\"#add8e6\" stroke=\"#add8e6\" cx=\"161.94\" cy=\"-57\" rx=\"26.8\" ry=\"26.8\"/>\n<text text-anchor=\"middle\" x=\"161.94\" y=\"-53.3\" font-family=\"Times,serif\" font-size=\"14.00\">|1⟩</text>\n</g>\n<!-- q0_1&#45;&#45;q1_1 -->\n<g id=\"edge5\" class=\"edge\">\n<title>q0_1&#45;&#45;q1_1</title>\n<path fill=\"none\" stroke=\"#cca714\" d=\"M69.1,-68.75C88.64,-66.25 115.51,-62.81 135.14,-60.3\"/>\n<text text-anchor=\"start\" x=\"87.3\" y=\"-68.8\" font-family=\"Times,serif\" font-size=\"9.00\" fill=\"#cca714\">(0.5+0j)</text>\n</g>\n<!-- q0_1&#45;&#45;q1_1 -->\n<g id=\"edge7\" class=\"edge\">\n<title>q0_1&#45;&#45;q1_1</title>\n<path fill=\"none\" stroke=\"#1c711e\" d=\"M69.1,-68.75C88.64,-66.25 115.51,-62.81 135.14,-60.3\"/>\n<text text-anchor=\"start\" x=\"87.3\" y=\"-50.8\" font-family=\"Times,serif\" font-size=\"9.00\" fill=\"#1c711e\">(0.5+0j)</text>\n</g>\n<!-- q2_0 -->\n<g id=\"node5\" class=\"node\">\n<title>q2_0</title>\n<ellipse fill=\"#add8e6\" stroke=\"#add8e6\" cx=\"281.24\" cy=\"-114\" rx=\"26.8\" ry=\"26.8\"/>\n<text text-anchor=\"middle\" x=\"281.24\" y=\"-110.3\" font-family=\"Times,serif\" font-size=\"14.00\">|0⟩</text>\n</g>\n<!-- q1_0&#45;&#45;q2_0 -->\n<g id=\"edge2\" class=\"edge\">\n<title>q1_0&#45;&#45;q2_0</title>\n<path fill=\"none\" stroke=\"#8a4b8f\" d=\"M188.68,-124.93C208.24,-122.59 235.02,-119.4 254.56,-117.07\"/>\n<text text-anchor=\"start\" x=\"206.59\" y=\"-124.8\" font-family=\"Times,serif\" font-size=\"9.00\" fill=\"#8a4b8f\">(0.5+0j)</text>\n</g>\n<!-- q2_1 -->\n<g id=\"node6\" class=\"node\">\n<title>q2_1</title>\n<ellipse fill=\"#add8e6\" stroke=\"#add8e6\" cx=\"281.24\" cy=\"-43\" rx=\"26.8\" ry=\"26.8\"/>\n<text text-anchor=\"middle\" x=\"281.24\" y=\"-39.3\" font-family=\"Times,serif\" font-size=\"14.00\">|1⟩</text>\n</g>\n<!-- q1_0&#45;&#45;q2_1 -->\n<g id=\"edge4\" class=\"edge\">\n<title>q1_0&#45;&#45;q2_1</title>\n<path fill=\"none\" stroke=\"#698a56\" d=\"M183.91,-112.8C205.13,-97.43 237.76,-73.78 259.05,-58.35\"/>\n<text text-anchor=\"start\" x=\"206.59\" y=\"-97.8\" font-family=\"Times,serif\" font-size=\"9.00\" fill=\"#698a56\">(0.5+0j)</text>\n</g>\n<!-- q1_1&#45;&#45;q2_0 -->\n<g id=\"edge6\" class=\"edge\">\n<title>q1_1&#45;&#45;q2_0</title>\n<path fill=\"none\" stroke=\"#cca714\" d=\"M186.12,-68.26C206.55,-78.19 236.18,-92.59 256.71,-102.57\"/>\n<text text-anchor=\"start\" x=\"206.59\" y=\"-65.8\" font-family=\"Times,serif\" font-size=\"9.00\" fill=\"#cca714\">(0.5+0j)</text>\n</g>\n<!-- q1_1&#45;&#45;q2_1 -->\n<g id=\"edge8\" class=\"edge\">\n<title>q1_1&#45;&#45;q2_1</title>\n<path fill=\"none\" stroke=\"#1c711e\" d=\"M188.68,-53.93C208.24,-51.59 235.02,-48.4 254.56,-46.07\"/>\n<text text-anchor=\"start\" x=\"206.59\" y=\"-32.8\" font-family=\"Times,serif\" font-size=\"9.00\" fill=\"#1c711e\">(0.5+0j)</text>\n</g>\n</g>\n</svg>\n"
          },
          "metadata": {},
          "execution_count": 114
        }
      ]
    },
    {
      "cell_type": "markdown",
      "source": [
        "### 2 Qutrits ARKS Representation"
      ],
      "metadata": {
        "id": "eKdF7e5F6GHB"
      }
    },
    {
      "cell_type": "code",
      "source": [
        "qutrit_statevector = [0.5+0.j, 0. +0.j, 0. +0.j, 0. +0.j, 0. +0.j, 0. +0.j, 0.5+0.j, 0.5+0.j, 0.5+0.j]\n",
        "g3 = arks_representation(qutrit_statevector, d=3)\n",
        "g3.render('d3_arks_repr', format=\"svg\", view=True)\n",
        "g3"
      ],
      "metadata": {
        "colab": {
          "base_uri": "https://localhost:8080/",
          "height": 408
        },
        "id": "vxIctiKMHRca",
        "outputId": "2bcf653c-5f6b-4320-ef7e-bd5a31390c09"
      },
      "execution_count": 115,
      "outputs": [
        {
          "output_type": "execute_result",
          "data": {
            "text/plain": [
              "<graphviz.dot.Graph at 0x7fd9088358e0>"
            ],
            "image/svg+xml": "<?xml version=\"1.0\" encoding=\"UTF-8\" standalone=\"no\"?>\n<!DOCTYPE svg PUBLIC \"-//W3C//DTD SVG 1.1//EN\"\n \"http://www.w3.org/Graphics/SVG/1.1/DTD/svg11.dtd\">\n<!-- Generated by graphviz version 2.43.0 (0)\n -->\n<!-- Title: arks_repr Pages: 1 -->\n<svg width=\"213pt\" height=\"290pt\"\n viewBox=\"0.00 0.00 212.59 290.00\" xmlns=\"http://www.w3.org/2000/svg\" xmlns:xlink=\"http://www.w3.org/1999/xlink\">\n<g id=\"graph0\" class=\"graph\" transform=\"scale(1 1) rotate(0) translate(4 286)\">\n<title>arks_repr</title>\n<polygon fill=\"white\" stroke=\"transparent\" points=\"-4,4 -4,-286 208.59,-286 208.59,4 -4,4\"/>\n<g id=\"clust1\" class=\"cluster\">\n<title>clusterQ0</title>\n<polygon fill=\"none\" stroke=\"black\" points=\"8,-39 8,-274 77.3,-274 77.3,-39 8,-39\"/>\n<text text-anchor=\"middle\" x=\"42.65\" y=\"-258.8\" font-family=\"Times,serif\" font-size=\"14.00\">Q0</text>\n</g>\n<g id=\"clust2\" class=\"cluster\">\n<title>clusterQ1</title>\n<polygon fill=\"none\" stroke=\"black\" points=\"127.3,-8 127.3,-243 196.59,-243 196.59,-8 127.3,-8\"/>\n<text text-anchor=\"middle\" x=\"161.94\" y=\"-227.8\" font-family=\"Times,serif\" font-size=\"14.00\">Q1</text>\n</g>\n<!-- q0_0 -->\n<g id=\"node1\" class=\"node\">\n<title>q0_0</title>\n<ellipse fill=\"#add8e6\" stroke=\"#add8e6\" cx=\"42.65\" cy=\"-216\" rx=\"26.8\" ry=\"26.8\"/>\n<text text-anchor=\"middle\" x=\"42.65\" y=\"-212.3\" font-family=\"Times,serif\" font-size=\"14.00\">|0⟩</text>\n</g>\n<!-- q1_0 -->\n<g id=\"node4\" class=\"node\">\n<title>q1_0</title>\n<ellipse fill=\"#add8e6\" stroke=\"#add8e6\" cx=\"161.94\" cy=\"-185\" rx=\"26.8\" ry=\"26.8\"/>\n<text text-anchor=\"middle\" x=\"161.94\" y=\"-181.3\" font-family=\"Times,serif\" font-size=\"14.00\">|0⟩</text>\n</g>\n<!-- q0_0&#45;&#45;q1_0 -->\n<g id=\"edge1\" class=\"edge\">\n<title>q0_0&#45;&#45;q1_0</title>\n<path fill=\"none\" stroke=\"#48c0d7\" d=\"M68.52,-209.43C88.43,-204.16 116.21,-196.82 136.1,-191.56\"/>\n<text text-anchor=\"start\" x=\"87.3\" y=\"-206.8\" font-family=\"Times,serif\" font-size=\"9.00\" fill=\"#48c0d7\">(0.5+0j)</text>\n</g>\n<!-- q0_1 -->\n<g id=\"node2\" class=\"node\">\n<title>q0_1</title>\n<ellipse fill=\"#add8e6\" stroke=\"#add8e6\" cx=\"42.65\" cy=\"-145\" rx=\"26.8\" ry=\"26.8\"/>\n<text text-anchor=\"middle\" x=\"42.65\" y=\"-141.3\" font-family=\"Times,serif\" font-size=\"14.00\">|1⟩</text>\n</g>\n<!-- q0_2 -->\n<g id=\"node3\" class=\"node\">\n<title>q0_2</title>\n<ellipse fill=\"#add8e6\" stroke=\"#add8e6\" cx=\"42.65\" cy=\"-74\" rx=\"26.8\" ry=\"26.8\"/>\n<text text-anchor=\"middle\" x=\"42.65\" y=\"-70.3\" font-family=\"Times,serif\" font-size=\"14.00\">|2⟩</text>\n</g>\n<!-- q0_2&#45;&#45;q1_0 -->\n<g id=\"edge2\" class=\"edge\">\n<title>q0_2&#45;&#45;q1_0</title>\n<path fill=\"none\" stroke=\"#50003d\" d=\"M62.49,-91.83C84.25,-112.43 119.85,-146.11 141.75,-166.84\"/>\n<text text-anchor=\"start\" x=\"87.3\" y=\"-144.8\" font-family=\"Times,serif\" font-size=\"9.00\" fill=\"#50003d\">(0.5+0j)</text>\n</g>\n<!-- q1_1 -->\n<g id=\"node5\" class=\"node\">\n<title>q1_1</title>\n<ellipse fill=\"#add8e6\" stroke=\"#add8e6\" cx=\"161.94\" cy=\"-114\" rx=\"26.8\" ry=\"26.8\"/>\n<text text-anchor=\"middle\" x=\"161.94\" y=\"-110.3\" font-family=\"Times,serif\" font-size=\"14.00\">|1⟩</text>\n</g>\n<!-- q0_2&#45;&#45;q1_1 -->\n<g id=\"edge3\" class=\"edge\">\n<title>q0_2&#45;&#45;q1_1</title>\n<path fill=\"none\" stroke=\"#699c18\" d=\"M68.24,-82.39C88.26,-89.21 116.38,-98.8 136.39,-105.63\"/>\n<text text-anchor=\"start\" x=\"87.3\" y=\"-100.8\" font-family=\"Times,serif\" font-size=\"9.00\" fill=\"#699c18\">(0.5+0j)</text>\n</g>\n<!-- q1_2 -->\n<g id=\"node6\" class=\"node\">\n<title>q1_2</title>\n<ellipse fill=\"#add8e6\" stroke=\"#add8e6\" cx=\"161.94\" cy=\"-43\" rx=\"26.8\" ry=\"26.8\"/>\n<text text-anchor=\"middle\" x=\"161.94\" y=\"-39.3\" font-family=\"Times,serif\" font-size=\"14.00\">|2⟩</text>\n</g>\n<!-- q0_2&#45;&#45;q1_2 -->\n<g id=\"edge4\" class=\"edge\">\n<title>q0_2&#45;&#45;q1_2</title>\n<path fill=\"none\" stroke=\"#4f545b\" d=\"M68.52,-67.43C88.43,-62.16 116.21,-54.82 136.1,-49.56\"/>\n<text text-anchor=\"start\" x=\"87.3\" y=\"-64.8\" font-family=\"Times,serif\" font-size=\"9.00\" fill=\"#4f545b\">(0.5+0j)</text>\n</g>\n</g>\n</svg>\n"
          },
          "metadata": {},
          "execution_count": 115
        }
      ]
    }
  ]
}